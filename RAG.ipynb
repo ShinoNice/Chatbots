{
 "cells": [
  {
   "cell_type": "markdown",
   "metadata": {},
   "source": [
    "# **RAG ChatBot**\n",
    "\n",
    "### Components:\n",
    "\n",
    "### Indexing\n",
    "1. **Load:** First we need to load our data.\n",
    "2. **Split:** Text splitters break large Documents into smaller chunks. This is useful both for indexing data and for passing it in to a model, since large chunks are harder to search over and won't fit in a model's finite context window.\n",
    "3. **Store:** We need somewhere to store and index our splits, so that they can later be searched over. This is often done using a VectorStore and Embeddings model.\n",
    "\n",
    "### Retrieval and generation\n",
    "4. **Retrieve:** Given a user input, relevant splits are retrieved from storage using a Retriever.\n",
    "5. **Generate:** A ChatModel / LLM produces an answer using a prompt that includes the question and the retrieved data"
   ]
  },
  {
   "cell_type": "markdown",
   "metadata": {},
   "source": [
    "## **Step 1: Environment Setup and Initialization**"
   ]
  },
  {
   "cell_type": "code",
   "execution_count": 2,
   "metadata": {},
   "outputs": [],
   "source": [
    "import os\n",
    "import re\n",
    "from getpass import getpass\n",
    "import time\n",
    "from tqdm import tqdm\n",
    "import pandas as pd\n",
    "import numpy as np\n",
    "from bs4 import BeautifulSoup\n",
    "\n",
    "import nltk\n",
    "from nltk.corpus import stopwords, wordnet\n",
    "from nltk.tokenize import word_tokenize\n",
    "from nltk.stem import WordNetLemmatizer\n",
    "\n",
    "from pinecone import Pinecone, ServerlessSpec\n",
    "from langchain_pinecone import PineconeVectorStore\n",
    "\n",
    "from langchain import hub\n",
    "from langchain_openai import OpenAIEmbeddings, ChatOpenAI\n",
    "from langchain.schema import Document\n",
    "from langchain_text_splitters import RecursiveCharacterTextSplitter\n",
    "from langchain_core.prompts import ChatPromptTemplate, PromptTemplate\n",
    "from langchain_core.output_parsers import StrOutputParser\n",
    "from langchain_core.runnables import RunnablePassthrough\n",
    "from langchain.chains import create_retrieval_chain\n",
    "from langchain.chains.combine_documents import create_stuff_documents_chain"
   ]
  },
  {
   "cell_type": "code",
   "execution_count": 2,
   "metadata": {},
   "outputs": [],
   "source": [
    "# OpenAI API key\n",
    "os.environ[\"OPENAI_API_KEY\"] = getpass(\"Enter your OpenAI API key: \")\n",
    "\n",
    "# Pinecone API key\n",
    "os.environ[\"PINECONE_API_KEY\"] = getpass(\"Enter your Pinecone API key: \")"
   ]
  },
  {
   "cell_type": "markdown",
   "metadata": {},
   "source": [
    "## **Step 2: Data Preparation**"
   ]
  },
  {
   "cell_type": "code",
   "execution_count": 3,
   "metadata": {},
   "outputs": [
    {
     "data": {
      "text/html": [
       "<div>\n",
       "<style scoped>\n",
       "    .dataframe tbody tr th:only-of-type {\n",
       "        vertical-align: middle;\n",
       "    }\n",
       "\n",
       "    .dataframe tbody tr th {\n",
       "        vertical-align: top;\n",
       "    }\n",
       "\n",
       "    .dataframe thead th {\n",
       "        text-align: right;\n",
       "    }\n",
       "</style>\n",
       "<table border=\"1\" class=\"dataframe\">\n",
       "  <thead>\n",
       "    <tr style=\"text-align: right;\">\n",
       "      <th></th>\n",
       "      <th>page_content</th>\n",
       "      <th>metadata</th>\n",
       "    </tr>\n",
       "  </thead>\n",
       "  <tbody>\n",
       "    <tr>\n",
       "      <th>0</th>\n",
       "      <td>&lt;!DOCTYPE html&gt;&lt;html lang=\"en\"&gt;&lt;head&gt;&lt;title&gt;On...</td>\n",
       "      <td>{'source': 'https://www.visitlisboa.com/en/p/o...</td>\n",
       "    </tr>\n",
       "    <tr>\n",
       "      <th>1</th>\n",
       "      <td>&lt;!DOCTYPE html&gt;&lt;html lang=\"en\"&gt;&lt;head&gt;&lt;title&gt;Wh...</td>\n",
       "      <td>{'source': 'https://www.visitlisboa.com/en/p/w...</td>\n",
       "    </tr>\n",
       "    <tr>\n",
       "      <th>2</th>\n",
       "      <td>&lt;!DOCTYPE html&gt;&lt;html lang=\"en\"&gt;&lt;head&gt;&lt;title&gt;Ge...</td>\n",
       "      <td>{'source': 'https://www.visitlisboa.com/en/p/g...</td>\n",
       "    </tr>\n",
       "    <tr>\n",
       "      <th>3</th>\n",
       "      <td>&lt;!DOCTYPE html&gt;&lt;html lang=\"en\"&gt;&lt;head&gt;&lt;title&gt;My...</td>\n",
       "      <td>{'source': 'https://www.visitlisboa.com/en/p/m...</td>\n",
       "    </tr>\n",
       "    <tr>\n",
       "      <th>4</th>\n",
       "      <td>&lt;!DOCTYPE html&gt;&lt;html lang=\"en\"&gt;&lt;head&gt;&lt;title&gt;Jo...</td>\n",
       "      <td>{'source': 'https://www.visitlisboa.com/en/p/m...</td>\n",
       "    </tr>\n",
       "  </tbody>\n",
       "</table>\n",
       "</div>"
      ],
      "text/plain": [
       "                                        page_content  \\\n",
       "0  <!DOCTYPE html><html lang=\"en\"><head><title>On...   \n",
       "1  <!DOCTYPE html><html lang=\"en\"><head><title>Wh...   \n",
       "2  <!DOCTYPE html><html lang=\"en\"><head><title>Ge...   \n",
       "3  <!DOCTYPE html><html lang=\"en\"><head><title>My...   \n",
       "4  <!DOCTYPE html><html lang=\"en\"><head><title>Jo...   \n",
       "\n",
       "                                            metadata  \n",
       "0  {'source': 'https://www.visitlisboa.com/en/p/o...  \n",
       "1  {'source': 'https://www.visitlisboa.com/en/p/w...  \n",
       "2  {'source': 'https://www.visitlisboa.com/en/p/g...  \n",
       "3  {'source': 'https://www.visitlisboa.com/en/p/m...  \n",
       "4  {'source': 'https://www.visitlisboa.com/en/p/m...  "
      ]
     },
     "execution_count": 3,
     "metadata": {},
     "output_type": "execute_result"
    }
   ],
   "source": [
    "# Loads the data\n",
    "df = pd.read_csv('../DataFiles/web_scraped_data.csv')\n",
    "df.head()"
   ]
  },
  {
   "cell_type": "code",
   "execution_count": 4,
   "metadata": {},
   "outputs": [
    {
     "name": "stdout",
     "output_type": "stream",
     "text": [
      "227\n"
     ]
    }
   ],
   "source": [
    "num_rows = df.shape[0]\n",
    "print(num_rows)"
   ]
  },
  {
   "cell_type": "code",
   "execution_count": 5,
   "metadata": {},
   "outputs": [
    {
     "data": {
      "text/plain": [
       "8"
      ]
     },
     "execution_count": 5,
     "metadata": {},
     "output_type": "execute_result"
    }
   ],
   "source": [
    "sum(not row.startswith('<!DOCTYPE html>') for row in df['page_content'])"
   ]
  },
  {
   "cell_type": "code",
   "execution_count": 6,
   "metadata": {},
   "outputs": [],
   "source": [
    "# Filters rows with valid HTML content\n",
    "df = df[df['page_content'].str.startswith('<!DOCTYPE html>')]\n",
    "\n",
    "# Additional data cleaning\n",
    "df.dropna(subset=['page_content'], inplace=True)\n",
    "df.reset_index(drop=True, inplace=True)"
   ]
  },
  {
   "cell_type": "code",
   "execution_count": 7,
   "metadata": {},
   "outputs": [
    {
     "name": "stdout",
     "output_type": "stream",
     "text": [
      "219\n"
     ]
    }
   ],
   "source": [
    "num_rows = df.shape[0]\n",
    "print(num_rows)"
   ]
  },
  {
   "cell_type": "markdown",
   "metadata": {},
   "source": [
    "### **Step 2.1: Parsing the HTML and Source Content**"
   ]
  },
  {
   "cell_type": "code",
   "execution_count": 8,
   "metadata": {},
   "outputs": [],
   "source": [
    "# Extracts metadata information\n",
    "df['source'] = df['metadata'].apply(lambda x: eval(x)['source'])"
   ]
  },
  {
   "cell_type": "code",
   "execution_count": 9,
   "metadata": {},
   "outputs": [],
   "source": [
    "# Function to parse HTML content based on source\n",
    "def parse_html_content(row):\n",
    "    html_content = row['page_content']\n",
    "    source = row['source']\n",
    "    \n",
    "    soup = BeautifulSoup(html_content, 'html.parser')\n",
    "    \n",
    "    # Extracts the title\n",
    "    title = soup.title.string if soup.title else ''\n",
    "    \n",
    "    # Removes unwanted substrings from the title\n",
    "    unwanted_titles = [\"| Visit Lisboa\", \"| CP - Comboios de Portugal\"]\n",
    "    for unwanted in unwanted_titles:\n",
    "        title = title.replace(unwanted, '').strip()\n",
    "    \n",
    "    # Removes unwanted elements such as footer, headers, etc.\n",
    "    for element in soup(['footer', 'script', 'style', 'header', 'nav', 'aside']):\n",
    "        element.extract()\n",
    "    \n",
    "    # Determines the main content based on the source URL\n",
    "    main_content = \"\"\n",
    "    main_content_tag = None\n",
    "    \n",
    "    if \"visitlisboa.com\" in source:\n",
    "        main_content_class = \"mt-3\"\n",
    "    elif \"carris\" in source:\n",
    "        main_content_class = \"col-lg-9 col-12 pl-lg-0\"\n",
    "    elif \"metrolisboa\" in source:\n",
    "        main_content_class = \"et-l et-l--post\"\n",
    "    elif \"cp.pt\" in source:\n",
    "        # Using the selector we can search desired cp.pt class in the html\n",
    "        main_content_tag = soup.select_one(\"body > div.wrapper > div.wrapper-content > div:nth-child(2) > div > div > div.row > div\")\n",
    "    else:\n",
    "        main_content_class = None\n",
    "    \n",
    "    # Extracts the main content using the specified class\n",
    "    if main_content_tag:\n",
    "        main_content = main_content_tag.get_text(separator=\" \")\n",
    "    elif main_content_class:\n",
    "        main_content_tag = soup.find(class_=main_content_class)\n",
    "        if main_content_tag:\n",
    "            main_content = main_content_tag.get_text(separator=\" \")\n",
    "    \n",
    "    # Pattern to match unwanted sentences\n",
    "    pattern = re.compile(r'This content is hosted by [\\w\\s,]+ functional cookies[^.]*\\. Cookie Settings')\n",
    "    \n",
    "    # Removes the unwanted sentences using regular expressions\n",
    "    main_content = re.sub(pattern, '', main_content)\n",
    "    \n",
    "    # Cleans up the text\n",
    "    main_content = re.sub(r'\\s+', ' ', main_content).strip()\n",
    "    \n",
    "    return title, main_content\n",
    "\n",
    "# Applies parsing function to each row in the dataframe\n",
    "df[['title', 'text']] = df.apply(parse_html_content, axis=1, result_type='expand')"
   ]
  },
  {
   "cell_type": "code",
   "execution_count": 10,
   "metadata": {},
   "outputs": [
    {
     "data": {
      "text/html": [
       "<div>\n",
       "<style scoped>\n",
       "    .dataframe tbody tr th:only-of-type {\n",
       "        vertical-align: middle;\n",
       "    }\n",
       "\n",
       "    .dataframe tbody tr th {\n",
       "        vertical-align: top;\n",
       "    }\n",
       "\n",
       "    .dataframe thead th {\n",
       "        text-align: right;\n",
       "    }\n",
       "</style>\n",
       "<table border=\"1\" class=\"dataframe\">\n",
       "  <thead>\n",
       "    <tr style=\"text-align: right;\">\n",
       "      <th></th>\n",
       "      <th>page_content</th>\n",
       "      <th>metadata</th>\n",
       "      <th>source</th>\n",
       "      <th>title</th>\n",
       "      <th>text</th>\n",
       "    </tr>\n",
       "  </thead>\n",
       "  <tbody>\n",
       "    <tr>\n",
       "      <th>0</th>\n",
       "      <td>&lt;!DOCTYPE html&gt;&lt;html lang=\"en\"&gt;&lt;head&gt;&lt;title&gt;On...</td>\n",
       "      <td>{'source': 'https://www.visitlisboa.com/en/p/o...</td>\n",
       "      <td>https://www.visitlisboa.com/en/p/only-in-lisbon</td>\n",
       "      <td>Only in Lisbon</td>\n",
       "      <td>The Monastery that turned into Parliament Did ...</td>\n",
       "    </tr>\n",
       "    <tr>\n",
       "      <th>1</th>\n",
       "      <td>&lt;!DOCTYPE html&gt;&lt;html lang=\"en\"&gt;&lt;head&gt;&lt;title&gt;Wh...</td>\n",
       "      <td>{'source': 'https://www.visitlisboa.com/en/p/w...</td>\n",
       "      <td>https://www.visitlisboa.com/en/p/why-lisbon</td>\n",
       "      <td>Why Lisbon?</td>\n",
       "      <td>Belém Heritage and history with a special twis...</td>\n",
       "    </tr>\n",
       "    <tr>\n",
       "      <th>2</th>\n",
       "      <td>&lt;!DOCTYPE html&gt;&lt;html lang=\"en\"&gt;&lt;head&gt;&lt;title&gt;Ge...</td>\n",
       "      <td>{'source': 'https://www.visitlisboa.com/en/p/g...</td>\n",
       "      <td>https://www.visitlisboa.com/en/p/get-to-lisbon</td>\n",
       "      <td>Get to Lisbon</td>\n",
       "      <td>There are many ways to get to Lisbon and all o...</td>\n",
       "    </tr>\n",
       "    <tr>\n",
       "      <th>3</th>\n",
       "      <td>&lt;!DOCTYPE html&gt;&lt;html lang=\"en\"&gt;&lt;head&gt;&lt;title&gt;My...</td>\n",
       "      <td>{'source': 'https://www.visitlisboa.com/en/p/m...</td>\n",
       "      <td>https://www.visitlisboa.com/en/p/my-city</td>\n",
       "      <td>My City</td>\n",
       "      <td>Alfacinhas (Lisbon natives) know there’s no pl...</td>\n",
       "    </tr>\n",
       "    <tr>\n",
       "      <th>4</th>\n",
       "      <td>&lt;!DOCTYPE html&gt;&lt;html lang=\"en\"&gt;&lt;head&gt;&lt;title&gt;Jo...</td>\n",
       "      <td>{'source': 'https://www.visitlisboa.com/en/p/m...</td>\n",
       "      <td>https://www.visitlisboa.com/en/p/my-city/joana...</td>\n",
       "      <td>Joana Amendoeira</td>\n",
       "      <td>I am from Santarém, but I fell in love with Li...</td>\n",
       "    </tr>\n",
       "  </tbody>\n",
       "</table>\n",
       "</div>"
      ],
      "text/plain": [
       "                                        page_content  \\\n",
       "0  <!DOCTYPE html><html lang=\"en\"><head><title>On...   \n",
       "1  <!DOCTYPE html><html lang=\"en\"><head><title>Wh...   \n",
       "2  <!DOCTYPE html><html lang=\"en\"><head><title>Ge...   \n",
       "3  <!DOCTYPE html><html lang=\"en\"><head><title>My...   \n",
       "4  <!DOCTYPE html><html lang=\"en\"><head><title>Jo...   \n",
       "\n",
       "                                            metadata  \\\n",
       "0  {'source': 'https://www.visitlisboa.com/en/p/o...   \n",
       "1  {'source': 'https://www.visitlisboa.com/en/p/w...   \n",
       "2  {'source': 'https://www.visitlisboa.com/en/p/g...   \n",
       "3  {'source': 'https://www.visitlisboa.com/en/p/m...   \n",
       "4  {'source': 'https://www.visitlisboa.com/en/p/m...   \n",
       "\n",
       "                                              source             title  \\\n",
       "0    https://www.visitlisboa.com/en/p/only-in-lisbon    Only in Lisbon   \n",
       "1        https://www.visitlisboa.com/en/p/why-lisbon       Why Lisbon?   \n",
       "2     https://www.visitlisboa.com/en/p/get-to-lisbon     Get to Lisbon   \n",
       "3           https://www.visitlisboa.com/en/p/my-city           My City   \n",
       "4  https://www.visitlisboa.com/en/p/my-city/joana...  Joana Amendoeira   \n",
       "\n",
       "                                                text  \n",
       "0  The Monastery that turned into Parliament Did ...  \n",
       "1  Belém Heritage and history with a special twis...  \n",
       "2  There are many ways to get to Lisbon and all o...  \n",
       "3  Alfacinhas (Lisbon natives) know there’s no pl...  \n",
       "4  I am from Santarém, but I fell in love with Li...  "
      ]
     },
     "execution_count": 10,
     "metadata": {},
     "output_type": "execute_result"
    }
   ],
   "source": [
    "df.head()"
   ]
  },
  {
   "cell_type": "code",
   "execution_count": 11,
   "metadata": {},
   "outputs": [
    {
     "data": {
      "text/plain": [
       "0      9079\n",
       "1      6416\n",
       "2      1603\n",
       "3       623\n",
       "4      1968\n",
       "       ... \n",
       "214    1294\n",
       "215     924\n",
       "216     700\n",
       "217    3278\n",
       "218    8364\n",
       "Name: text, Length: 219, dtype: int64"
      ]
     },
     "execution_count": 11,
     "metadata": {},
     "output_type": "execute_result"
    }
   ],
   "source": [
    "# Counts the number of characters in the text\n",
    "df['text'].apply(len)"
   ]
  },
  {
   "cell_type": "code",
   "execution_count": 12,
   "metadata": {},
   "outputs": [
    {
     "name": "stdout",
     "output_type": "stream",
     "text": [
      "The Monastery that turned into Parliament Did you know that the building that is today known as the Parliament of Portugal used to be a monastery? Only in Lisbon Only in Lisbon Only in Lisbon Curiosities Jau street, a tribute to the enslaved people of Lisbon There is a curious street in Alcântara about a strange man: Jau. An old artists' villa hidden in Principe Real hills Vila Martel hides behind a closed door at the number 55 in Rua das Taipas, on the slope of Glória. Rua do Arsenal, home of the cod shops, witness to history The trade of Lisbon's favourite fish for Christmas dinner has been more intense in the past, but it still survives in the street that witnessed the most important events in Lisbon's recent history, from the earthquake to 25th April. A barge and two crows: Saint Vincent, the ancient patron saint of Lisbon January 22nd marks another anniversary of the death of Saint Vincent, the saint that was once the patron saint of Lisbon and the Kingdom of Portugal, until he was replaced by Saint Anthony, today unbeatable in the preference of Lisboners. In this garden leisure plus nature equals mathematics For those who walk by Campo Grande it may go unnoticed, but around the 11 hectares of the renamed Jardim Mário Soares, there is a collection of games dedicated to mathematics. The origin of the Berliners in Portugal Berliners can be found in any café in Lisbon, stuffed with multiple flavors but they are especially famous at the beaches, where the sellers shout “Look at the berliner!”. The library that resisted the earthquake and housed the King mistresses Anyone who gets a glimpse of this pleasant 17th-century palace, serene under the shade of the Alvalade trees, has no idea that the Coruchéus Library has lived several lives, survived the great earthquake, served noble purposes and less noble ones, like when it hosted the extramarital escapades of Felipe II of Spain, I of Portugal. Who was Almirante Reis, the name of this famous avenue? Avenue Almirante Reis is known for multiculturalism, different experiences that come together there. But where does this mysterious name come from? What is that building above Porto Brandão, on the other side of the river? An old pesthouse, once the biggest in the world Have you ever heard of the Lazareto de Porto Brandão? Maybe you’ve seen it from the northern margin of the river Tejo. A giant crocodile in Chelas What if I told you that, once upon a time, there was a crocodile in ... the Chelas neighborhood? A big “bean stew” in Vasco da Gama bridge You’ve probably heard of the Vasco da Gama bridge, or even crossed it. It was baptized with the name of the famous portuguese navigator, and it connects Alcochete to Lisbon and to Sacavém. The house where the first flag of the Portuguese Republic was created It is located on Rua dos Correeiros, right in the heart of downtown Lisbon, and it originally started as a tailor shop. The Monastery that turned into Parliament Did you know that the building that is today known as the Parliament of Portugal used to be a monastery? A Palace in Camões Square In Chiado, where you can find the statue of Luís de Camões, there used to be a Palace: the Marialva Marquis Palace. A rhinoceros in the Belém Tower In the Tower of Belém, have you ever noticed the rhinoceros that appears on the façade? Yes, there is a first circular The Segunda Circular is the urban road that connects the eastern part of Lisbon to the western part, where traffic chaos is often experienced. Did you know there is a Roman Theatre in Lisbon? Have you ever visited the Roman Theater of Lisbon? One of the first buildings to be erected in the Roman city of Felicitas Iulia Olisipo (Lisbon), during the time of Emperor Augustus, and later remodeled during the time of Nero. The Oldest Fountain in Lisbon Lisbon is full of fountains, the kind that supplied the city in times of water scarcity. “Résvés” Campo de Ourique - did you hear this expression? Have you ever heard a Lisbon native using the famous expression \"résvés Campo de Ourique\"? It's quite possible that you have, and there are many reasons to explain its existence. Feira da Ladra: an ancient flea market Feira da Ladra is the famous street market where used clothing, antiques, handicrafts, and more are bought and sold. The Estrela Military Hospital: From Convent to Cultural Space The Estrela Hospital is now a cultural space in Lisbon, with two floors dedicated to theater and a third for the academy. The Church that founded Italy, in Chiado In the middle of Chiado, there is an italian pearl, 500 years old. It is the Church of Our Lady of Loreto, near Largo Camões. It is a meeting point and even the birthplace of the Italian Nation. The hidden secret panels of the Alcântara Marine Station The first painting with a black person in a position other than subordinate, among a series of subversive and polemic drawings. Palácio do Grilo in Beato, a place to dream Palácio do Grilo is many things: a palace-museum-restaurant-bar-theatre, whatever the visitor wants. With more than 200 rooms to visit, the Palace's atmosphere takes you to another dimension, to dreams, to a live movie, to the fantastic. Queijadas Finas de Sintra: the Nata rival This is a sweet little tart with a special place in Portuguese gastronomic and even literary heritage. It makes up the list of Portuguese desserts prepared with cheese and rivals another giant of Portuguese pastry, the pastel de nata. In Alvalade, a film club keeps alive the memory of neighborhood theaters In Alvalade, nine friends united their love for the Bairro with their taste for cinema and gave life to a project that mobilizes the neighborhood's neighbors. Jacarandás, the purple Lisbon In the spring, it is from the Tagus that we best see the purple mantle that invades the city of Lisbon with its jacarandas. And rightly so, because the Tagus has everything to do with the history of these trees - they arrived in the 19th century coming from Brazil. Hospital St. Louis, where Fernando Pessoa died Where did Fernando Pessoa, the portuguese poet known for his heteronyms, die? Do you know? The first telegraph in Portugal lies in… Terreiro do Paço The communication and transport revolution began in the 19th century and in Portugal, one of the first steps happened on the 16th September 1856 with the installation of the first electrical telegraphic network, in Lisbon. There is a mummy with cancer in this museum Museums have a lot of secrets. But some of those secrets are quite unusual. In the National Museum of Archeology, at Praça do Império, Belém, there is a mummy with prostate cancer! Estacas, the project that defied the dictatorship There is a neighborhood that dared to defy the architecture of the Salazar’s Estado Novo, when the country lived under a dictatorship. Ajuda Botanical Garden, the eldest garden in Lisbon Have you been to the oldest garden in Lisbon? An homage to journalism in garden of São Pedro de Alcântara Perhaps you haven't noticed a statue in the São Pedro de Alcântara garden, in Bairro Alto. A cemetery that is an open air museum In 1833, a cemetery was built in the Estrela parish to accommodate the victims of a devastating cholera epidemic that struck Lisbon. Who is this woman in the statue at Mercado da Ribeira Perhaps you have already noticed the big statue in D. Luís I Square, next to Mercado da Ribeira. Simão’s bookstore, one of the smallest in the world Simão Bookstore, located in the Escadinhas de São Cristóvão in Alfama, is one of the smallest bookstores in the world. The Spooky Dermatology Museum Dermatology is not an old field, but the Museum of Portuguese Dermatology Dr. Luís Sá de Penella, located in Hospital dos Capuchos on Alameda de Santo António dos Capuchos, was established in 1955, although the idea behind this museum dates back to 1946. A Hotel-Museum in Alfama, at the Former Sommer Warehouses When the news broke that the former Sommer warehouses, located in the Coculim Palace on Cais de Santarém Street, would be transformed into a hotel, a team of archaeologists embarked on excavations, uncovering fascinating secrets! The First Casino in Lisbon: The Majestic Club You might have already come across the Casa do Alentejo on Portas de Santo Antão Street, a former and beautiful palace that is a heritage of all Alentejo people, where Alentejan culture is showcased and promoted. The Vanished Royal Hospital of All Saints in Rossio You've probably walked through Rossio Square, the bustling heart of Lisbon, and its neighboring square, Praça da Figueira. Tavares Restaurant, One of the Oldest in Europe In the Chiado district, on Misericórdia Street, you'll find the oldest restaurant in the country and one of the oldest in Europe: Tavares Restaurant, which opened its doors in 1784! A Roman Fish Sauce Factory in a Hotel In Belém, the decision to transform the former palace that once served as the residence of the governor of the Tower of Belém into a hotel brought a surprise: excavations would reveal that beneath the ground lay remnants of a Roman fish sauce factory!\n"
     ]
    }
   ],
   "source": [
    "print(df.loc[0, 'text'])"
   ]
  },
  {
   "cell_type": "code",
   "execution_count": 13,
   "metadata": {},
   "outputs": [
    {
     "name": "stdout",
     "output_type": "stream",
     "text": [
      "https://www.visitlisboa.com/en/events/festival-big-bang-23\n",
      "Festival Big Bang'23 [ October ] Music and Adventure Festival for Kids, is surely an intriguing musical voyage of discovery for all involved. Description Map BIG BANG MUSIC AND ADVENTURE FESTIVAL FOR KIDS Big Bang is an international project that began as a business with six partners from five different countries. It is through this project that CCB / Fábrica das Artes has opened a venue where Portuguese artists can create new artistic approaches to music for kids and see their work recognised both in Portugal and throughout Europe. Details www.ccb.pt + info 2023 Centro Cultural de Belém Praça do Império 1449-003 Lisboa From 20 Oct, 2023 to 21 Oct, 2023\n"
     ]
    }
   ],
   "source": [
    "print(df.loc[210, 'source'])\n",
    "print(df.loc[210, 'text'])"
   ]
  },
  {
   "cell_type": "markdown",
   "metadata": {},
   "source": [
    "### **Step 2.2: Data Preprocessing**"
   ]
  },
  {
   "cell_type": "code",
   "execution_count": 14,
   "metadata": {},
   "outputs": [],
   "source": [
    "# Lets create a copy so we can proceed safely to the next steps\n",
    "nltk_df = df.copy()"
   ]
  },
  {
   "cell_type": "code",
   "execution_count": null,
   "metadata": {},
   "outputs": [],
   "source": [
    "# nltk.download('punkt')\n",
    "# nltk.download('averaged_perceptron_tagger')\n",
    "# nltk.download('wordnet')\n",
    "# nltk.download('stopwords')"
   ]
  },
  {
   "cell_type": "code",
   "execution_count": 15,
   "metadata": {},
   "outputs": [],
   "source": [
    "stop_words = set(stopwords.words('english'))\n",
    "lemmatizer = WordNetLemmatizer()\n",
    "\n",
    "# Helper function to map NLTK's part-of-speech tags to the format expected by the lemmatizer\n",
    "def get_wordnet_pos(treebank_tag):\n",
    "    if treebank_tag.startswith('J'):\n",
    "        return wordnet.ADJ\n",
    "    elif treebank_tag.startswith('V'):\n",
    "        return wordnet.VERB\n",
    "    elif treebank_tag.startswith('N'):\n",
    "        return wordnet.NOUN\n",
    "    elif treebank_tag.startswith('R'):\n",
    "        return wordnet.ADV\n",
    "    else:\n",
    "        return wordnet.NOUN\n",
    "\n",
    "def preprocess_text(text):\n",
    "    # Removes non-alphanumeric characters\n",
    "    text = re.sub(r'\\W', ' ', text)\n",
    "    # Tokenizes the text\n",
    "    tokens = word_tokenize(text)\n",
    "    # POS tagging\n",
    "    pos_tags = nltk.pos_tag(tokens)\n",
    "    \n",
    "    # Lemmatization\n",
    "    lemmatized_tokens = [\n",
    "        lemmatizer.lemmatize(token, get_wordnet_pos(tag) or wordnet.NOUN)\n",
    "        for token, tag in pos_tags if token not in stop_words\n",
    "    ]\n",
    "    return ' '.join(lemmatized_tokens)\n",
    "\n",
    "nltk_df['preprocessed_text'] = nltk_df['text'].apply(preprocess_text)"
   ]
  },
  {
   "cell_type": "code",
   "execution_count": 16,
   "metadata": {},
   "outputs": [
    {
     "data": {
      "text/html": [
       "<div>\n",
       "<style scoped>\n",
       "    .dataframe tbody tr th:only-of-type {\n",
       "        vertical-align: middle;\n",
       "    }\n",
       "\n",
       "    .dataframe tbody tr th {\n",
       "        vertical-align: top;\n",
       "    }\n",
       "\n",
       "    .dataframe thead th {\n",
       "        text-align: right;\n",
       "    }\n",
       "</style>\n",
       "<table border=\"1\" class=\"dataframe\">\n",
       "  <thead>\n",
       "    <tr style=\"text-align: right;\">\n",
       "      <th></th>\n",
       "      <th>source</th>\n",
       "      <th>title</th>\n",
       "      <th>preprocessed_text</th>\n",
       "    </tr>\n",
       "  </thead>\n",
       "  <tbody>\n",
       "    <tr>\n",
       "      <th>0</th>\n",
       "      <td>https://www.visitlisboa.com/en/p/only-in-lisbon</td>\n",
       "      <td>Only in Lisbon</td>\n",
       "      <td>The Monastery turn Parliament Did know buildin...</td>\n",
       "    </tr>\n",
       "    <tr>\n",
       "      <th>1</th>\n",
       "      <td>https://www.visitlisboa.com/en/p/why-lisbon</td>\n",
       "      <td>Why Lisbon?</td>\n",
       "      <td>Belém Heritage history special twist Lisbon 28...</td>\n",
       "    </tr>\n",
       "    <tr>\n",
       "      <th>2</th>\n",
       "      <td>https://www.visitlisboa.com/en/p/get-to-lisbon</td>\n",
       "      <td>Get to Lisbon</td>\n",
       "      <td>There many way get Lisbon easy use With airpor...</td>\n",
       "    </tr>\n",
       "    <tr>\n",
       "      <th>3</th>\n",
       "      <td>https://www.visitlisboa.com/en/p/my-city</td>\n",
       "      <td>My City</td>\n",
       "      <td>Alfacinhas Lisbon native know place like home ...</td>\n",
       "    </tr>\n",
       "    <tr>\n",
       "      <th>4</th>\n",
       "      <td>https://www.visitlisboa.com/en/p/my-city/joana...</td>\n",
       "      <td>Joana Amendoeira</td>\n",
       "      <td>I Santarém I fell love Lisbon listen fado song...</td>\n",
       "    </tr>\n",
       "  </tbody>\n",
       "</table>\n",
       "</div>"
      ],
      "text/plain": [
       "                                              source             title  \\\n",
       "0    https://www.visitlisboa.com/en/p/only-in-lisbon    Only in Lisbon   \n",
       "1        https://www.visitlisboa.com/en/p/why-lisbon       Why Lisbon?   \n",
       "2     https://www.visitlisboa.com/en/p/get-to-lisbon     Get to Lisbon   \n",
       "3           https://www.visitlisboa.com/en/p/my-city           My City   \n",
       "4  https://www.visitlisboa.com/en/p/my-city/joana...  Joana Amendoeira   \n",
       "\n",
       "                                   preprocessed_text  \n",
       "0  The Monastery turn Parliament Did know buildin...  \n",
       "1  Belém Heritage history special twist Lisbon 28...  \n",
       "2  There many way get Lisbon easy use With airpor...  \n",
       "3  Alfacinhas Lisbon native know place like home ...  \n",
       "4  I Santarém I fell love Lisbon listen fado song...  "
      ]
     },
     "execution_count": 16,
     "metadata": {},
     "output_type": "execute_result"
    }
   ],
   "source": [
    "nltk_df.drop(['page_content', 'metadata', 'text'], axis=1, inplace=True)\n",
    "nltk_df.head()"
   ]
  },
  {
   "cell_type": "code",
   "execution_count": 17,
   "metadata": {},
   "outputs": [
    {
     "data": {
      "text/plain": [
       "0      6393\n",
       "1      5052\n",
       "2      1028\n",
       "3       479\n",
       "4      1291\n",
       "       ... \n",
       "214     903\n",
       "215     593\n",
       "216     441\n",
       "217    2298\n",
       "218    5589\n",
       "Name: preprocessed_text, Length: 219, dtype: int64"
      ]
     },
     "execution_count": 17,
     "metadata": {},
     "output_type": "execute_result"
    }
   ],
   "source": [
    "# Counts the number of characters in the text\n",
    "nltk_df['preprocessed_text'].apply(len)"
   ]
  },
  {
   "cell_type": "markdown",
   "metadata": {},
   "source": [
    "## **Step 3: Vector Database Setup**"
   ]
  },
  {
   "cell_type": "markdown",
   "metadata": {},
   "source": [
    "### **Step 3.1: Initializing Pinecone and Embedding Model**"
   ]
  },
  {
   "cell_type": "code",
   "execution_count": 18,
   "metadata": {},
   "outputs": [],
   "source": [
    "# Initializes Pinecone with the API key (Pinecone is a vector database used for similarity search)\n",
    "pc = Pinecone(\n",
    "    api_key=os.getenv(\"PINECONE_API_KEY\")\n",
    ")\n",
    "\n",
    "\n",
    "# We need to specify the index name and check if it exists\n",
    "index_name = 'lisbon-tourism'\n",
    "if index_name not in pc.list_indexes().names():\n",
    "    \n",
    "    # If it doesn't then we create a new index with the specified dimension and metric\n",
    "    pc.create_index(\n",
    "        name=index_name, \n",
    "        dimension=1536,  # The dimension is adjusted to match OpenAI's embedding size\n",
    "        metric='cosine',\n",
    "        spec=ServerlessSpec(\n",
    "            cloud='aws',\n",
    "            region='us-east-1'\n",
    "        )\n",
    "    )\n",
    "\n",
    "    # wait for index to be initialized\n",
    "    while not pc.describe_index('lisbon-tourism').status['ready']:\n",
    "        time.sleep(1)\n",
    "\n",
    "# Connects to the created/existing index\n",
    "index = pc.Index('lisbon-tourism')\n",
    "time.sleep(1)"
   ]
  },
  {
   "cell_type": "code",
   "execution_count": null,
   "metadata": {},
   "outputs": [],
   "source": [
    "#In case we wish to delete the vectordb in Pinecone\n",
    "#pc.delete_index(index_name)"
   ]
  },
  {
   "cell_type": "markdown",
   "metadata": {},
   "source": [
    "**Euclidean Distance** - used when dealing with embeddings where the magnitude (length) of vectors can provide meaningful information, such as geographical data or when the scale of the data matters.<br/>\n",
    "**Cosine Similarity** - used in text analysis and other cases where the direction of the vectors is more important than their magnitude, such as comparing document similarity.<br/>\n",
    "**Manhattan Distance** - Useful for grid-like data.<br/>\n",
    "**Hamming Distance** - Useful for categorical data.<br/>\n",
    "**Jaccard Distance** - Useful for binary or categorical data."
   ]
  },
  {
   "cell_type": "code",
   "execution_count": 19,
   "metadata": {},
   "outputs": [
    {
     "data": {
      "text/plain": [
       "{'dimension': 1536,\n",
       " 'index_fullness': 0.0,\n",
       " 'namespaces': {'': {'vector_count': 441}},\n",
       " 'total_vector_count': 441}"
      ]
     },
     "execution_count": 19,
     "metadata": {},
     "output_type": "execute_result"
    }
   ],
   "source": [
    "index.describe_index_stats() # lets view the index stats"
   ]
  },
  {
   "cell_type": "markdown",
   "metadata": {},
   "source": [
    "Our index is now ready but it's empty. It is a vector index, so it needs vectors. <br/>\n",
    "To create these vector embeddings we will use OpenAI's text-embedding-ada-002 model that we can access it via LangChain"
   ]
  },
  {
   "cell_type": "code",
   "execution_count": 20,
   "metadata": {},
   "outputs": [],
   "source": [
    "embedding_model = OpenAIEmbeddings(model=\"text-embedding-ada-002\",\n",
    "                                   api_key=os.environ[\"OPENAI_API_KEY\"])"
   ]
  },
  {
   "cell_type": "markdown",
   "metadata": {},
   "source": [
    "### **Step 3.2: Chunking the Data**\n",
    "Since some of the texts are quite large (6000+ characters) they will exceed the input size limit of many models like OpenAI's text-embedding-ada-002 (which typically handles up to 8192 tokens, approximately 4000-5000 words). So we will apply chunking."
   ]
  },
  {
   "cell_type": "code",
   "execution_count": 21,
   "metadata": {},
   "outputs": [],
   "source": [
    "def chunk_text(text, chunk_size=1000, chunk_overlap=200):\n",
    "    text_splitter = RecursiveCharacterTextSplitter(\n",
    "        chunk_size=chunk_size, \n",
    "        chunk_overlap=chunk_overlap, \n",
    "        add_start_index=True\n",
    "    )\n",
    "    document = Document(page_content=text)\n",
    "    chunks = text_splitter.split_documents([document])\n",
    "    return [chunk.page_content for chunk in chunks]"
   ]
  },
  {
   "cell_type": "markdown",
   "metadata": {},
   "source": [
    "### **Step 3.3: Uploading Embeddings to Pinecone**"
   ]
  },
  {
   "cell_type": "code",
   "execution_count": 22,
   "metadata": {},
   "outputs": [],
   "source": [
    "# Function to upload embeddings to Pinecone with chunking and batching\n",
    "def upload_embeddings_to_pinecone_with_chunking(index, nltk_df, chunk_size=1000, chunk_overlap=200, batch_size=10):\n",
    "    all_chunks = []\n",
    "    all_metadata = []\n",
    "\n",
    "    for idx, row in nltk_df.iterrows():\n",
    "        # Chunks the preprocessed text\n",
    "        chunks = chunk_text(row['preprocessed_text'], chunk_size, chunk_overlap)\n",
    "\n",
    "        for i, chunk in enumerate(chunks):\n",
    "            all_chunks.append(chunk)\n",
    "            all_metadata.append({\n",
    "                \"id\": f\"{idx}_{i}\",\n",
    "                \"source\": row['source'], \n",
    "                \"title\": row['title'],\n",
    "                \"chunk\": i,\n",
    "                \"text\": chunk\n",
    "            })\n",
    "\n",
    "            if len(all_chunks) >= batch_size:\n",
    "                # Generates embeddings for the batch\n",
    "                embeddings = embedding_model.embed_documents(all_chunks)\n",
    "\n",
    "                # Upserts the batch of embeddings and metadata\n",
    "                to_upsert = [(md['id'], emb, md) for emb, md in zip(embeddings, all_metadata)]\n",
    "                index.upsert(to_upsert)\n",
    "\n",
    "                # Clears the lists\n",
    "                all_chunks = []\n",
    "                all_metadata = []\n",
    "\n",
    "    # Upserts any remaining chunks\n",
    "    if all_chunks:\n",
    "        embeddings = embedding_model.embed_documents(all_chunks)\n",
    "        to_upsert = [(md['id'], emb, md) for emb, md in zip(embeddings, all_metadata)]\n",
    "        index.upsert(to_upsert)"
   ]
  },
  {
   "cell_type": "code",
   "execution_count": 23,
   "metadata": {},
   "outputs": [
    {
     "name": "stderr",
     "output_type": "stream",
     "text": [
      "100%|██████████| 219/219 [00:13<00:00, 15.65it/s]\n"
     ]
    }
   ],
   "source": [
    "# Uploads embeddings for all documents in the dataframe with chunking and progress bar\n",
    "batch_size = 100\n",
    "with tqdm(total=len(nltk_df)) as pbar:\n",
    "    upload_embeddings_to_pinecone_with_chunking(index, nltk_df, batch_size=batch_size)\n",
    "    pbar.update(len(nltk_df))"
   ]
  },
  {
   "cell_type": "code",
   "execution_count": 24,
   "metadata": {},
   "outputs": [
    {
     "data": {
      "text/plain": [
       "{'dimension': 1536,\n",
       " 'index_fullness': 0.0,\n",
       " 'namespaces': {'': {'vector_count': 441}},\n",
       " 'total_vector_count': 441}"
      ]
     },
     "execution_count": 24,
     "metadata": {},
     "output_type": "execute_result"
    }
   ],
   "source": [
    "index.describe_index_stats() # lets view the index stats"
   ]
  },
  {
   "cell_type": "code",
   "execution_count": 30,
   "metadata": {},
   "outputs": [],
   "source": [
    "# Initializing the VectorStore\n",
    "vectorstore = PineconeVectorStore(index=index, embedding=embedding_model)"
   ]
  },
  {
   "cell_type": "markdown",
   "metadata": {},
   "source": [
    "## **Step 4: RAG Model Implementation (Retrieval and generation)**\n",
    "\n",
    "We've built a fully-fledged knowledge base. Now it's time to connect that knowledge base to our chatbot. To do that we'll be using LangChain for the higher-level abstractions <br/>\n",
    "To use LangChain here we need to load the LangChain abstraction for a vector index, called a vectorstore. We pass in our vector index to initialize the object."
   ]
  },
  {
   "cell_type": "markdown",
   "metadata": {},
   "source": [
    "### **Retrieve**\n",
    "\n",
    "We want to create a application that takes a user question, searches for documents relevant to that question, passes the retrieved documents and initial question to a model, and returns an answer."
   ]
  },
  {
   "cell_type": "code",
   "execution_count": 31,
   "metadata": {},
   "outputs": [
    {
     "data": {
      "text/plain": [
       "6"
      ]
     },
     "execution_count": 31,
     "metadata": {},
     "output_type": "execute_result"
    }
   ],
   "source": [
    "retriever = vectorstore.as_retriever(search_type=\"similarity\", search_kwargs={\"k\": 6})\n",
    "\n",
    "retrieved_docs = retriever.invoke(\"Do you know about the Festival Big Bang23?\")\n",
    "\n",
    "len(retrieved_docs)"
   ]
  },
  {
   "cell_type": "code",
   "execution_count": 32,
   "metadata": {},
   "outputs": [
    {
     "name": "stdout",
     "output_type": "stream",
     "text": [
      "Festival Big Bang 23 October Music Adventure Festival Kids surely intriguing musical voyage discovery involve Description Map BIG BANG MUSIC AND ADVENTURE FESTIVAL FOR KIDS Big Bang international project begin business six partner five different country It project CCB Fábrica da Artes open venue Portuguese artist create new artistic approach music kid see work recognise Portugal throughout Europe Details www ccb pt info 2023 Centro Cultural de Belém Praça Império 1449 003 Lisboa From 20 Oct 2023 21 Oct 2023\n"
     ]
    }
   ],
   "source": [
    "print(retrieved_docs[0].page_content)"
   ]
  },
  {
   "cell_type": "markdown",
   "metadata": {},
   "source": [
    "### **Generate**\n",
    "\n",
    "Let’s put it all together into a chain that takes a question, retrieves relevant documents, constructs a prompt, passes that to a model, and parses the output."
   ]
  },
  {
   "cell_type": "code",
   "execution_count": 33,
   "metadata": {},
   "outputs": [],
   "source": [
    "# Initializes OpenAI model (ensure the API key is set in the environment)\n",
    "openai_model = ChatOpenAI(api_key=os.getenv(\"OPENAI_API_KEY\"),\n",
    "                          model=\"gpt-4o\",\n",
    "                          temperature=0,\n",
    "                          max_tokens=None)"
   ]
  },
  {
   "cell_type": "code",
   "execution_count": 37,
   "metadata": {},
   "outputs": [
    {
     "name": "stdout",
     "output_type": "stream",
     "text": [
      "You are an assistant for question-answering tasks. Use the following pieces of retrieved context to answer the question. If you don't know the answer, just say that you don't know. Use three sentences maximum and keep the answer concise.\n",
      "Question: filler question \n",
      "Context: filler context \n",
      "Answer:\n"
     ]
    }
   ],
   "source": [
    "prompt = hub.pull(\"rlm/rag-prompt\")\n",
    "\n",
    "example_messages = prompt.invoke(\n",
    "    {\"context\": \"filler context\", \"question\": \"filler question\"}\n",
    ").to_messages()\n",
    "\n",
    "print(example_messages[0].content)"
   ]
  },
  {
   "cell_type": "code",
   "execution_count": 38,
   "metadata": {},
   "outputs": [
    {
     "name": "stdout",
     "output_type": "stream",
     "text": [
      "Yes, the Festival Big Bang 23 is a music and adventure festival for kids. It is an international project involving six partners from five different countries and will take place at the Centro Cultural de Belém in Lisbon from October 20 to October 21, 2023. More details can be found at www.ccb.pt."
     ]
    }
   ],
   "source": [
    "def format_docs(docs):\n",
    "    return \"\\n\\n\".join(doc.page_content for doc in docs)\n",
    "\n",
    "\n",
    "rag_chain = (\n",
    "    {\"context\": retriever | format_docs, \"question\": RunnablePassthrough()}\n",
    "    | prompt\n",
    "    | openai_model\n",
    "    | StrOutputParser()\n",
    ")\n",
    "\n",
    "for chunk in rag_chain.stream(\"Do you know about the Festival Big Bang23?\"):\n",
    "    print(chunk, end=\"\", flush=True)"
   ]
  },
  {
   "cell_type": "markdown",
   "metadata": {},
   "source": [
    "### Built-in chains"
   ]
  },
  {
   "cell_type": "code",
   "execution_count": 40,
   "metadata": {},
   "outputs": [],
   "source": [
    "system_prompt = (\n",
    "    \"You are an assistant for question-answering tasks. \"\n",
    "    \"Use the following pieces of retrieved context to answer \"\n",
    "    \"the question. If you don't know the answer, say that you \"\n",
    "    \"don't know. Use three sentences maximum and keep the \"\n",
    "    \"answer concise.\"\n",
    "    \"\\n\\n\"\n",
    "    \"{context}\"\n",
    ")\n",
    "\n",
    "prompt = ChatPromptTemplate.from_messages(\n",
    "    [\n",
    "        (\"system\", system_prompt),\n",
    "        (\"human\", \"{input}\"),\n",
    "    ]\n",
    ")\n",
    "\n",
    "\n",
    "question_answer_chain = create_stuff_documents_chain(openai_model, prompt)\n",
    "rag_chain = create_retrieval_chain(retriever, question_answer_chain)"
   ]
  },
  {
   "cell_type": "code",
   "execution_count": 41,
   "metadata": {},
   "outputs": [
    {
     "name": "stdout",
     "output_type": "stream",
     "text": [
      "Yes, the Festival Big Bang 23 is a music and adventure festival for kids. It is an international project that began with six partners from five different countries and is hosted by CCB Fábrica da Artes in Lisbon. The festival will take place from October 20 to October 21, 2023, at the Centro Cultural de Belém.\n"
     ]
    }
   ],
   "source": [
    "response = rag_chain.invoke({\"input\": \"Do you know about the Festival Big Bang23?\"})\n",
    "print(response[\"answer\"])"
   ]
  },
  {
   "cell_type": "code",
   "execution_count": 42,
   "metadata": {},
   "outputs": [
    {
     "name": "stdout",
     "output_type": "stream",
     "text": [
      "page_content='Festival Big Bang 23 October Music Adventure Festival Kids surely intriguing musical voyage discovery involve Description Map BIG BANG MUSIC AND ADVENTURE FESTIVAL FOR KIDS Big Bang international project begin business six partner five different country It project CCB Fábrica da Artes open venue Portuguese artist create new artistic approach music kid see work recognise Portugal throughout Europe Details www ccb pt info 2023 Centro Cultural de Belém Praça Império 1449 003 Lisboa From 20 Oct 2023 21 Oct 2023' metadata={'chunk': 0.0, 'id': '210_0', 'source': 'https://www.visitlisboa.com/en/events/festival-big-bang-23', 'title': \"Festival Big Bang'23\"}\n",
      "\n",
      "page_content='Out Fest 23 OUT FEST Festival Internacional de Música Exploratória Barreiro Barreiro International Festival Exploratory Music On south shore Tejo Barreiro prepare host OUT FEST consider one important experimental music event country Description On south shore Tejo Barreiro prepare host OUT FEST consider one important experimental music event country On street cultural venue host festival possible listen Alvin Curran Dali Muru The Polyphonic Swarm Liturgy Nok Cultural Ensemble Nze Nze Scotch Rolex Shackleton Carlos Zíngaro Clothilde João Silva Dj Lynce Joana De Sá Tiago Sousa also part event celebrate music rhythm world From 4th 7th October various official improvised venue Barreiro Tickets 6 euro general Details outfest pt From 04 Oct 2023 07 Oct 2023 From 6' metadata={'chunk': 0.0, 'id': '175_0', 'source': 'https://www.visitlisboa.com/en/events/out-fest-23', 'title': \"Out Fest'23\"}\n",
      "\n",
      "page_content='Brunch Electronik Lisboa Tapada da Ajuda host Brunch Electronik electronic music festival present national international artist open air event offer great vibe keep cool Description Map Tapada da Ajuda host Brunch Electronik electronic music festival present national international artist start lunch time To celebrate joy summer friendship around electronic music always outdoor environment festivalgoers find two stage dance zone area rest shadow table around talk socialize Tapada da Ajuda Lagoa Branca Buses 729 760 723 742 Brunch Electronik 1 16 JULY 2023 MOCHAKK LIL LOUIS SERGINHO SHERI VARI Brunch Electronik 2 30 JULY 2023 VINTAGE CULTURE DOOZIE DANNI GATO ARI GIRÃO DJ POPPY Brunch Electronik 3 13 AUGUST 2023 NINA KRAVIZ ADIEL BIIA TAXSH KETARINA Brunch Electronik 4 20 AUGUST 2023 FISHER NOX KLIN KLOP JUST KELLY 10 SET REINIER ZONNEVELD LIVE DAX J ELLI ACULA FRANK MAUREL 17 SET ARTBAT SHALL OCIN AVÖ ANALODJICA SYPER 24 SET DENNIS CRUZ GORDO DUB TIGER LUCY SNAKE 05 OCT KLANGKUENSTLER' metadata={'chunk': 0.0, 'id': '147_0', 'source': 'https://www.visitlisboa.com/en/events/brunch-electronik-lisboa', 'title': 'Brunch Electronik Lisboa'}\n",
      "\n",
      "page_content='French Film Festival 23 Lisboa host French Film Festival great cinema celebration Description Map Bold free creative one might describe 24th edition French Film Festival start exhibition Jeanne du Barry The King Favourite film direct Maïwenn open last edition Cannes Film Festival The many foreseen session include selection premiere newly produce work France section like Cinema à Mesa Cinema Table dedicate gastronomy new section Pronto Filmar Ready Film two film dedicate fashion Other highlight festival film Second Chance confirm opportunity see film big screen meeting filmmaker Cristèle Alves Meira bring feature film Alma Viva Maria de Medeiros present restored copy film Capitães de Abril anticipate celebration 50th anniversary revolution 25th April 1974 From 5th 15th October Cinema São Jorge Cinemateca Portuguesa Av da Liberdade metro Avenida Cinema NOS Amoreiras Av Eng Duarte Pacheco bus 713 774 758 Tickets 5 euros general More information festadocinemafrances com Details' metadata={'chunk': 0.0, 'id': '176_0', 'source': 'https://www.visitlisboa.com/en/events/french-film-festival', 'title': \"French Film Festival'23\"}\n",
      "\n",
      "page_content='Somersby Out Jazz 23 May September Sunday afternoon fill sound jazz little funk soul easy entertainment among friend good atmosphere Description Map Program Jazz soul funk hip hop hear Sunday afternoon garden Oeiras fun good atmosphere With intention keep culture alive fill green space colour social interaction music good vibration Out Jazz invite Portuguese artist musician provide fun afternoon sunset A open air music festival bring new life Sunday afternoon Until September At different garden throughout Oeiras Details www outjazz pt Parque do Poetas Quinta Real de Caxias Palácio Marquês de Pombal Lisboa Parque Urbano Jamor Parque Urbano de Miraflores From 07 May 2023 24 Sep 2023 Free' metadata={'chunk': 0.0, 'id': '135_0', 'source': 'https://www.visitlisboa.com/en/events/somersby-out-jazz-2', 'title': \"Somersby Out Jazz'23\"}\n",
      "\n",
      "page_content='The National Nothing good amazing concert The National perform Lisbon follow release ninth studio album First Two Pages Frankenstein Description Map THE NATIONAL SPECIAL GUEST Bartees Strange 06 07 October 2023 At SAGRES CAMPO PEQUENO The National perform Lisbon follow release ninth studio album First Two Pages Frankenstein album 11 song feature guest appearance Taylor Swift Phoebe Bridgers Sufjan Stevens The National indie rock group form 1999 The National compose identical twin guitar play brother Bryce Aaron Dessner anothe set brother Bryan Devendorf drummer Scott Devendorf usually play bass Matt Berninger band vocalist distinctive voice Details everythingisnew pt Campo Pequeno Centro de Lazer Campo Pequeno 1000 082 Lisboa From 06 Oct 2023 07 Oct 2023 Paid Buy Tickets' metadata={'chunk': 0.0, 'id': '183_0', 'source': 'https://www.visitlisboa.com/en/events/the-national', 'title': 'The National'}\n",
      "\n"
     ]
    }
   ],
   "source": [
    "# Returning the Sources\n",
    "for document in response[\"context\"]:\n",
    "    print(document)\n",
    "    print()"
   ]
  },
  {
   "cell_type": "markdown",
   "metadata": {},
   "source": [
    "We can also customize the prompt"
   ]
  },
  {
   "cell_type": "code",
   "execution_count": 43,
   "metadata": {},
   "outputs": [],
   "source": [
    "template = \"\"\"Use the following pieces of context to answer the question at the end.\n",
    "If you don't know the answer, just say that you don't know, don't try to make up an answer.\n",
    "Use three sentences maximum and keep the answer as concise as possible.\n",
    "Always say \"thanks for asking!\" at the end of the answer.\n",
    "\n",
    "{context}\n",
    "\n",
    "Question: {question}\n",
    "\n",
    "Helpful Answer:\"\"\"\n",
    "custom_rag_prompt = PromptTemplate.from_template(template)\n",
    "\n",
    "rag_chain = (\n",
    "    {\"context\": retriever | format_docs, \"question\": RunnablePassthrough()}\n",
    "    | custom_rag_prompt\n",
    "    | openai_model\n",
    "    | StrOutputParser()\n",
    ")"
   ]
  },
  {
   "cell_type": "code",
   "execution_count": 44,
   "metadata": {},
   "outputs": [
    {
     "data": {
      "text/plain": [
       "'The French Film Festival 23 in Lisboa is a celebration of French cinema, featuring a variety of films including premieres of newly produced works from France. Highlights include the opening film \"Jeanne du Barry,\" sessions dedicated to gastronomy and fashion, and opportunities to meet filmmakers. The festival runs from October 5th to 15th at venues like Cinema São Jorge and Cinemateca Portuguesa. Thanks for asking!'"
      ]
     },
     "execution_count": 44,
     "metadata": {},
     "output_type": "execute_result"
    }
   ],
   "source": [
    "rag_chain.invoke(\"What is the French Film Festival 23?\")"
   ]
  }
 ],
 "metadata": {
  "kernelspec": {
   "display_name": "Python 3",
   "language": "python",
   "name": "python3"
  },
  "language_info": {
   "codemirror_mode": {
    "name": "ipython",
    "version": 3
   },
   "file_extension": ".py",
   "mimetype": "text/x-python",
   "name": "python",
   "nbconvert_exporter": "python",
   "pygments_lexer": "ipython3",
   "version": "3.12.4"
  }
 },
 "nbformat": 4,
 "nbformat_minor": 2
}
