{
 "cells": [
  {
   "cell_type": "markdown",
   "metadata": {},
   "source": [
    "# **Generative Chatbots - GPT-based**\n",
    "\n",
    "In  this script we show how much better are chatbots that generate responses to user inputs dynamically using machine learning models, particularly large language models (LLMs) like GPT (Generative Pre-trained Transformer). <br/>\n",
    "We will use the LangChain open-source framework since it helps tremendously in the creation of these types of chatbots due to its higher-level abstractions."
   ]
  },
  {
   "cell_type": "markdown",
   "metadata": {},
   "source": [
    "## **Environment Setup**"
   ]
  },
  {
   "cell_type": "code",
   "execution_count": 1,
   "metadata": {},
   "outputs": [],
   "source": [
    "import os\n",
    "from getpass import getpass\n",
    "from langchain_openai import ChatOpenAI\n",
    "from langchain_core.messages import HumanMessage\n",
    "from langchain_core.prompts import ChatPromptTemplate, MessagesPlaceholder\n",
    "from langchain_core.runnables.history import RunnableWithMessageHistory\n",
    "from langchain_core.runnables import ConfigurableFieldSpec\n",
    "from langchain_community.chat_message_histories import SQLChatMessageHistory"
   ]
  },
  {
   "cell_type": "code",
   "execution_count": 2,
   "metadata": {},
   "outputs": [],
   "source": [
    "# OpenAI API key\n",
    "os.environ[\"OPENAI_API_KEY\"] = getpass(\"Enter your OpenAI API key: \")\n",
    "\n",
    "# Initialize OpenAI model\n",
    "openai_model = ChatOpenAI(api_key=os.getenv(\"OPENAI_API_KEY\"),\n",
    "                          model=\"gpt-4o\",\n",
    "                          temperature=0,\n",
    "                          max_tokens=200)"
   ]
  },
  {
   "cell_type": "markdown",
   "metadata": {},
   "source": [
    "## **Stateless Chatbot**\n",
    "\n",
    "This first chatbot has no concept of state, in other words, it has no memory of previous asked questions."
   ]
  },
  {
   "cell_type": "markdown",
   "metadata": {},
   "source": [
    "**Temperature:** The temperature parameter controls the randomness of the model's output. Lower values make the output more deterministic, while higher values introduce more creativity and variation. <br/>\n",
    "**Max Tokens:** The max_tokens parameter limits the length of the response. This helps to ensure that responses are concise and focused."
   ]
  },
  {
   "cell_type": "markdown",
   "metadata": {},
   "source": [
    "### **Answer Generation and Conversation Examples**"
   ]
  },
  {
   "cell_type": "code",
   "execution_count": 3,
   "metadata": {},
   "outputs": [],
   "source": [
    "def generate_response(prompt):\n",
    "    response = openai_model.invoke([HumanMessage(content=prompt)])\n",
    "    return response.content"
   ]
  },
  {
   "cell_type": "code",
   "execution_count": 4,
   "metadata": {},
   "outputs": [
    {
     "name": "stdout",
     "output_type": "stream",
     "text": [
      "Absolutely! Lisbon, the capital of Portugal, is a city rich in history, culture, and stunning landscapes. Here are some must-visit spots:\n",
      "\n",
      "1. **Belém Tower (Torre de Belém)**: This iconic fortress, a UNESCO World Heritage site, dates back to the 16th century and is a symbol of Portugal's Age of Discovery.\n",
      "\n",
      "2. **Jerónimos Monastery (Mosteiro dos Jerónimos)**: Another UNESCO World Heritage site, this stunning monastery is a masterpiece of Manueline architecture and houses the tomb of the famous explorer Vasco da Gama.\n",
      "\n",
      "3. **Alfama District**: The oldest neighborhood in Lisbon, Alfama is a maze of narrow streets, traditional Fado music venues, and historic buildings. It's a great place to wander and soak in the local atmosphere.\n",
      "\n",
      "4. **São Jorge Castle (Castelo de São Jorge)**: Perched on a hilltop, this castle offers panoramic views of the city and the Tagus River\n"
     ]
    }
   ],
   "source": [
    "user_input = \"Can you tell me about good tourism spots in Lisbon?\"\n",
    "print(generate_response(user_input))"
   ]
  },
  {
   "cell_type": "code",
   "execution_count": 5,
   "metadata": {},
   "outputs": [
    {
     "name": "stdout",
     "output_type": "stream",
     "text": [
      "I'm sorry, but I don't have access to previous interactions or questions. How can I assist you today?\n"
     ]
    }
   ],
   "source": [
    "user_input = \"What was my previous question?\"\n",
    "print(generate_response(user_input))"
   ]
  },
  {
   "cell_type": "code",
   "execution_count": 6,
   "metadata": {},
   "outputs": [
    {
     "name": "stdout",
     "output_type": "stream",
     "text": [
      "User: Hi there!\n",
      "Bot: Hello! How can I assist you today?\n",
      "\n",
      "User: Can you suggest some good restaurants in Lisbon?\n",
      "Bot: Certainly! Lisbon is known for its vibrant culinary scene, offering a mix of traditional Portuguese cuisine and innovative modern dishes. Here are some highly recommended restaurants in Lisbon:\n",
      "\n",
      "1. **Belcanto** - Chef José Avillez's Michelin-starred restaurant offers a sophisticated take on Portuguese cuisine. Located in Chiado, it's perfect for a special occasion.\n",
      "\n",
      "2. **Time Out Market** - This food hall in the Mercado da Ribeira features a variety of stalls from some of Lisbon's top chefs and restaurants. It's a great place to sample different dishes in one spot.\n",
      "\n",
      "3. **Cervejaria Ramiro** - A must-visit for seafood lovers, this bustling cervejaria is famous for its fresh shellfish and casual atmosphere.\n",
      "\n",
      "4. **Taberna da Rua das Flores** - A cozy, traditional tavern in Chiado that serves delicious small plates (petiscos) with a modern twist. Be prepared to wait, as they don't take reservations.\n",
      "\n",
      "5. **A Cev\n",
      "\n",
      "User: What about historical sites?\n",
      "Bot: Historical sites are locations that hold significant cultural, historical, or archaeological importance. These sites often provide insight into past civilizations, events, and ways of life. They can range from ancient ruins and monuments to buildings and landscapes that have played a crucial role in history. Here are a few notable examples from around the world:\n",
      "\n",
      "### Ancient Ruins and Monuments\n",
      "1. **Machu Picchu (Peru)**: An ancient Incan city set high in the Andes Mountains, known for its sophisticated dry-stone construction.\n",
      "2. **Pyramids of Giza (Egypt)**: The iconic pyramids built as tombs for the Pharaohs, including the Great Pyramid of Giza, one of the Seven Wonders of the Ancient World.\n",
      "3. **Colosseum (Italy)**: A large amphitheater in Rome that hosted gladiatorial games and public spectacles in ancient times.\n",
      "4. **Great Wall of China (China)**: A series of fortifications made of various materials, built to\n",
      "\n"
     ]
    }
   ],
   "source": [
    "user_inputs = [\n",
    "    \"Hi there!\",\n",
    "    \"Can you suggest some good restaurants in Lisbon?\",\n",
    "    \"What about historical sites?\"\n",
    "]\n",
    "\n",
    "for user_input in user_inputs:\n",
    "    response = generate_response(user_input)\n",
    "    print(f\"User: {user_input}\\nBot: {response}\\n\")"
   ]
  },
  {
   "cell_type": "markdown",
   "metadata": {},
   "source": [
    "## **Context-Aware Chatbot (Stateful ChatBot)**"
   ]
  },
  {
   "cell_type": "code",
   "execution_count": 16,
   "metadata": {},
   "outputs": [],
   "source": [
    "# Define the prompt template\n",
    "prompt = ChatPromptTemplate.from_messages(\n",
    "    [\n",
    "        (\"system\", \n",
    "         \"You're an assistant specialized in Lisbon tourism, who speaks in {language}. Respond in 20 words or fewer.\"\n",
    "         ),\n",
    "        MessagesPlaceholder(variable_name=\"history\"),\n",
    "        (\"human\", \"{input}\"),\n",
    "    ]\n",
    ")\n",
    "\n",
    "# Runnable chain with prompt and model\n",
    "runnable = prompt | openai_model"
   ]
  },
  {
   "cell_type": "markdown",
   "metadata": {},
   "source": [
    "### **Memory Management**\n",
    "\n",
    "We will use **SQLite** which is a file-based database that allows us to persist conversation history between different runs of the chatbot. This means the context can be maintained even if the application restarts, making it suitable for long-term memory."
   ]
  },
  {
   "cell_type": "code",
   "execution_count": 12,
   "metadata": {},
   "outputs": [],
   "source": [
    "def get_session_history(user_id: str, conversation_id: str):\n",
    "    return SQLChatMessageHistory(f\"{user_id}--{conversation_id}\", \"sqlite:///../DataFiles/memory.db\")\n",
    "\n",
    "with_message_history = RunnableWithMessageHistory(\n",
    "    runnable,\n",
    "    get_session_history,\n",
    "    input_messages_key=\"input\",\n",
    "    history_messages_key=\"history\",\n",
    "    history_factory_config=[\n",
    "        \n",
    "        ConfigurableFieldSpec(\n",
    "            id=\"user_id\",\n",
    "            annotation=str,\n",
    "            name=\"User ID\",\n",
    "            description=\"Unique identifier for the user.\",\n",
    "            default=\"\",\n",
    "            is_shared=True,\n",
    "        ),\n",
    "\n",
    "        ConfigurableFieldSpec(\n",
    "            id=\"conversation_id\",\n",
    "            annotation=str,\n",
    "            name=\"Conversation ID\",\n",
    "            description=\"Unique identifier for the conversation.\",\n",
    "            default=\"\",\n",
    "            is_shared=True,\n",
    "        ),\n",
    "    ],\n",
    ")"
   ]
  },
  {
   "cell_type": "markdown",
   "metadata": {},
   "source": [
    "**get_session_history Function:** Returns a session history stored in an SQLite database, allowing us to track conversations based on user_id and conversation_id. <br/> \n",
    "\n",
    "**ConfigurableFieldSpec:** This allows us to specify unique identifiers for each user and conversation, making it possible to maintain context across different sessions.<br/>\n",
    "\n",
    "**History Management:** The chatbot uses the stored history to provide contextually relevant responses, remembering details like the user's name and the context of the conversation."
   ]
  },
  {
   "cell_type": "code",
   "execution_count": 10,
   "metadata": {},
   "outputs": [],
   "source": [
    "# Clears the context History\n",
    "def clear_session_history(user_id: str, conversation_id: str):\n",
    "    history = get_session_history(user_id, conversation_id)\n",
    "    history.clear()  # This clears the history for the given session\n",
    "\n",
    "# Example:\n",
    "#clear_session_history(\"23\", \"1\")"
   ]
  },
  {
   "cell_type": "markdown",
   "metadata": {},
   "source": [
    "### **Conversation with Context Retention**"
   ]
  },
  {
   "cell_type": "code",
   "execution_count": 17,
   "metadata": {},
   "outputs": [
    {
     "name": "stdout",
     "output_type": "stream",
     "text": [
      "Bot: content='Hi Ricardo! Lisbon is fantastic. Be sure to visit Belém Tower, Alfama, and try the local cuisine!' response_metadata={'token_usage': {'completion_tokens': 24, 'prompt_tokens': 167, 'total_tokens': 191}, 'model_name': 'gpt-4o-2024-05-13', 'system_fingerprint': 'fp_c9aa9c0491', 'finish_reason': 'stop', 'logprobs': None} id='run-7a4de17d-b48e-4a51-a9e9-efcd8aae7fdc-0' usage_metadata={'input_tokens': 167, 'output_tokens': 24, 'total_tokens': 191}\n"
     ]
    }
   ],
   "source": [
    "# First interaction: Introduction\n",
    "response = with_message_history.invoke(\n",
    "    {\"language\": \"english\", \"input\": \"Hi! I'm Ricardo, planning a trip to Lisbon.\"},\n",
    "    config={\"configurable\": {\"user_id\": \"23\", \"conversation_id\": \"1\"}},\n",
    ")\n",
    "print(\"Bot:\", response)"
   ]
  },
  {
   "cell_type": "code",
   "execution_count": 19,
   "metadata": {},
   "outputs": [
    {
     "name": "stdout",
     "output_type": "stream",
     "text": [
      "Bot: content='Belém Tower, Jerónimos Monastery, Alfama, São Jorge Castle, and Time Out Market.' response_metadata={'token_usage': {'completion_tokens': 22, 'prompt_tokens': 255, 'total_tokens': 277}, 'model_name': 'gpt-4o-2024-05-13', 'system_fingerprint': 'fp_3aa7262c27', 'finish_reason': 'stop', 'logprobs': None} id='run-6a81f054-31ca-44a3-be3e-03221c613f35-0' usage_metadata={'input_tokens': 255, 'output_tokens': 22, 'total_tokens': 277}\n"
     ]
    }
   ],
   "source": [
    "# Follow-up interaction: Asking a related question\n",
    "response = with_message_history.invoke(\n",
    "    {\"language\": \"english\", \"input\": \"What are some must-visit places in Lisbon?\"},\n",
    "    config={\"configurable\": {\"user_id\": \"23\", \"conversation_id\": \"1\"}},\n",
    ")\n",
    "print(\"Bot:\", response)"
   ]
  },
  {
   "cell_type": "code",
   "execution_count": 20,
   "metadata": {},
   "outputs": [
    {
     "name": "stdout",
     "output_type": "stream",
     "text": [
      "Bot: content='Miradouro da Senhora do Monte, LX Factory, Oceanário de Lisboa, and Praça do Comércio.' response_metadata={'token_usage': {'completion_tokens': 21, 'prompt_tokens': 293, 'total_tokens': 314}, 'model_name': 'gpt-4o-2024-05-13', 'system_fingerprint': 'fp_3aa7262c27', 'finish_reason': 'stop', 'logprobs': None} id='run-4b00d159-2fd8-4c6e-97ea-bb04870c1edc-0' usage_metadata={'input_tokens': 293, 'output_tokens': 21, 'total_tokens': 314}\n"
     ]
    }
   ],
   "source": [
    "response = with_message_history.invoke(\n",
    "    {\"language\": \"french\", \"input\": \"What are the best spots in Lisbon?\"},\n",
    "    config={\"configurable\": {\"user_id\": \"23\", \"conversation_id\": \"1\"}},\n",
    ")\n",
    "print(\"Bot:\", response)"
   ]
  },
  {
   "cell_type": "code",
   "execution_count": 22,
   "metadata": {},
   "outputs": [
    {
     "name": "stdout",
     "output_type": "stream",
     "text": [
      "Bot: Tu t'appelles Ricardo.\n"
     ]
    }
   ],
   "source": [
    "# Checking if the bot remembers the user's name\n",
    "response = with_message_history.invoke(\n",
    "    {\"language\": \"french\", \"input\": \"What's my name?\"},\n",
    "    config={\"configurable\": {\"user_id\": \"23\", \"conversation_id\": \"1\"}},\n",
    ")\n",
    "print(\"Bot:\", response.content)"
   ]
  },
  {
   "cell_type": "code",
   "execution_count": 25,
   "metadata": {},
   "outputs": [
    {
     "name": "stdout",
     "output_type": "stream",
     "text": [
      "Bot: I don't know your name. Can you tell me?\n"
     ]
    }
   ],
   "source": [
    "# Checking if the bot remembers the user's name with a different user_id\n",
    "response = with_message_history.invoke(\n",
    "    {\"language\": \"english\", \"input\": \"What's my name?\"},\n",
    "    config={\"configurable\": {\"user_id\": \"20\", \"conversation_id\": \"1\"}},\n",
    ")\n",
    "print(\"Bot:\", response.content)"
   ]
  },
  {
   "cell_type": "markdown",
   "metadata": {},
   "source": [
    "We can also create a function so that we only have to change the parameters each time we ask a question "
   ]
  },
  {
   "cell_type": "code",
   "execution_count": 26,
   "metadata": {},
   "outputs": [],
   "source": [
    "def ask_chatbot(question, language=\"english\", user_id=\"default_user\", conversation_id=\"default_convo\"):\n",
    "    \"\"\"\n",
    "    :param question: The question we want to ask the chatbot.\n",
    "    :param language: The language for the response (default is \"english\").\n",
    "    :param user_id: The unique ID for the user (default is \"default_user\").\n",
    "    :param conversation_id: The unique ID for the conversation (default is \"default_convo\").\n",
    "    :return: The response from the chatbot.\n",
    "    \"\"\"\n",
    "    response = with_message_history.invoke(\n",
    "        {\n",
    "            \"language\": language,\n",
    "            \"input\": question\n",
    "        },\n",
    "        config={\n",
    "            \"configurable\": {\n",
    "                \"user_id\": user_id,\n",
    "                \"conversation_id\": conversation_id\n",
    "\n",
    "            }\n",
    "        }\n",
    "    )\n",
    "    return response.content"
   ]
  },
  {
   "cell_type": "code",
   "execution_count": 27,
   "metadata": {},
   "outputs": [
    {
     "name": "stdout",
     "output_type": "stream",
     "text": [
      "Bot: Sure! Try Bacalhau à Brás, Pastéis de Nata, and Caldo Verde. Delicious and authentic Lisbon flavors!\n"
     ]
    }
   ],
   "source": [
    "response = ask_chatbot(\"Can you recommend some local dishes in Lisbon?\", user_id=\"2\", conversation_id=\"1\")\n",
    "print(\"Bot:\", response)"
   ]
  },
  {
   "cell_type": "code",
   "execution_count": 28,
   "metadata": {},
   "outputs": [
    {
     "name": "stdout",
     "output_type": "stream",
     "text": [
      "Bot: Visitez la Tour de Belém, le Monastère des Hiéronymites, l'Alfama, et l'Océanarium de Lisbonne.\n"
     ]
    }
   ],
   "source": [
    "response2 = ask_chatbot(\"What are some must-see attractions in Lisbon?\", language=\"french\", user_id=\"2\", conversation_id=\"1\")\n",
    "print(\"Bot:\", response2)"
   ]
  }
 ],
 "metadata": {
  "kernelspec": {
   "display_name": "Python 3",
   "language": "python",
   "name": "python3"
  },
  "language_info": {
   "codemirror_mode": {
    "name": "ipython",
    "version": 3
   },
   "file_extension": ".py",
   "mimetype": "text/x-python",
   "name": "python",
   "nbconvert_exporter": "python",
   "pygments_lexer": "ipython3",
   "version": "3.12.4"
  }
 },
 "nbformat": 4,
 "nbformat_minor": 2
}
