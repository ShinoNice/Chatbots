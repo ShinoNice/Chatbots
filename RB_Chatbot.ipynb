{
 "cells": [
  {
   "cell_type": "markdown",
   "metadata": {},
   "source": [
    "# **Rule-Based Chatbot**\n",
    "\n",
    " We will first build the most straightforward type of chatbot dedicated to answering Lisbon-Turism related questions answer based on simple FAQ.\n",
    "\n",
    " - most straightforward type of chatbot\n",
    " - relies on a series of \"if-then-else\" statements or a decision tree to\n",
    " - basic troubleshooting or simple FAQ handling"
   ]
  },
  {
   "cell_type": "code",
   "execution_count": 1,
   "metadata": {},
   "outputs": [],
   "source": [
    "import re # we use regular expressions for better search efficiency"
   ]
  },
  {
   "cell_type": "code",
   "execution_count": 2,
   "metadata": {},
   "outputs": [],
   "source": [
    "def rule_based_chatbot(user_input):\n",
    "    user_input = user_input.lower()\n",
    "\n",
    "    # Greeting\n",
    "    if re.search(r\"\\b(hello|hi|good morning)\\b\", user_input):\n",
    "        return \"Hello! How can I assist you with your Lisbon trip today?\"\n",
    "\n",
    "    # Tourist Spots\n",
    "    elif re.search(r\"\\b(tourist spots|places to visit|sightseeing)\\b\", user_input):\n",
    "        return \"Some must-visit places in Lisbon are Belém Tower, Jerónimos Monastery, and the Alfama district.\"\n",
    "\n",
    "    # Specific Places\n",
    "    elif re.search(r\"\\b(belém tower|belem tower|torre de belém)\\b\", user_input):\n",
    "        return \"Belém Tower is a historic landmark located along the Tagus River. It's a symbol of the Age of Discoveries.\"\n",
    "\n",
    "    elif re.search(r\"\\b(jerónimos monastery)\\b\", user_input):\n",
    "        return \"Jerónimos Monastery is a stunning example of Manueline architecture and is a UNESCO World Heritage Site.\"\n",
    "\n",
    "    # Local Cuisine\n",
    "    elif re.search(r\"\\b(food|cuisine|local dishes)\\b\", user_input):\n",
    "        return \"You must try Pastel de Nata and Bacalhau à Brás while in Lisbon!\"\n",
    "\n",
    "    # Transport\n",
    "    elif re.search(r\"\\b(transport|public transport|metro|bus)\\b\", user_input):\n",
    "        return \"Lisbon has an extensive public transport system including metro, buses, and trams.\"\n",
    "\n",
    "    # Weather\n",
    "    elif re.search(r\"\\b(weather|climate)\\b\", user_input):\n",
    "        return \"The weather in Lisbon is generally mild, with warm summers and cool, wet winters.\"\n",
    "\n",
    "    # Fallback\n",
    "    else:\n",
    "        return \"I'm not sure about that. Can I help with something else?\""
   ]
  },
  {
   "cell_type": "code",
   "execution_count": 3,
   "metadata": {},
   "outputs": [],
   "source": [
    "def main():\n",
    "    print(\"Welcome to the Lisbon Tourism Chatbot!\")\n",
    "    print(\"Type 'exit' to end the conversation.\\n\")\n",
    "    \n",
    "    while True:\n",
    "        user_input = input(\"You: \")\n",
    "        if user_input.lower() == 'exit':\n",
    "            print(\"Chatbot: Thank you for using the Lisbon Tourism Chatbot. Have a great day!\")\n",
    "            break\n",
    "        exit\n",
    "        \n",
    "        response = rule_based_chatbot(user_input)\n",
    "        print(f\"Chatbot: {response}\\n\")"
   ]
  },
  {
   "cell_type": "code",
   "execution_count": 4,
   "metadata": {},
   "outputs": [
    {
     "name": "stdout",
     "output_type": "stream",
     "text": [
      "Welcome to the Lisbon Tourism Chatbot!\n",
      "Type 'exit' to end the conversation.\n",
      "\n",
      "Chatbot: I'm not sure about that. Can I help with something else?\n",
      "\n",
      "Chatbot: Hello! How can I assist you with your Lisbon trip today?\n",
      "\n",
      "Chatbot: Hello! How can I assist you with your Lisbon trip today?\n",
      "\n",
      "Chatbot: The weather in Lisbon is generally mild, with warm summers and cool, wet winters.\n",
      "\n",
      "Chatbot: Thank you for using the Lisbon Tourism Chatbot. Have a great day!\n"
     ]
    }
   ],
   "source": [
    "if __name__ == \"__main__\":\n",
    "    main()"
   ]
  }
 ],
 "metadata": {
  "kernelspec": {
   "display_name": "Python 3",
   "language": "python",
   "name": "python3"
  },
  "language_info": {
   "codemirror_mode": {
    "name": "ipython",
    "version": 3
   },
   "file_extension": ".py",
   "mimetype": "text/x-python",
   "name": "python",
   "nbconvert_exporter": "python",
   "pygments_lexer": "ipython3",
   "version": "3.12.4"
  }
 },
 "nbformat": 4,
 "nbformat_minor": 2
}
